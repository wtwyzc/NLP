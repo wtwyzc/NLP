{
 "cells": [
  {
   "cell_type": "code",
   "execution_count": 17,
   "id": "089ef287",
   "metadata": {},
   "outputs": [
    {
     "name": "stdout",
     "output_type": "stream",
     "text": [
      "education\n"
     ]
    }
   ],
   "source": [
    "import torch\n",
    "from importlib import import_module\n",
    "\n",
    "key = {\n",
    "    0: 'finance',\n",
    "    1: 'realty',\n",
    "    2: 'stocks',\n",
    "    3: 'education',\n",
    "    4: 'science',\n",
    "    5: 'society',\n",
    "    6: 'politics',\n",
    "    7: 'sports',\n",
    "    8: 'game',\n",
    "    9: 'entertainment'\n",
    "}\n",
    "\n",
    "model_name = 'bert'\n",
    "x = import_module('models.' + model_name)\n",
    "config = x.Config('THUCNews')\n",
    "model = x.Model(config).to(config.device)\n",
    "model.load_state_dict(torch.load(config.save_path, map_location='cpu'))\n",
    "\n",
    "\n",
    "def build_predict_text(text):\n",
    "    token = config.tokenizer.tokenize(text)\n",
    "    token = ['[CLS]'] + token\n",
    "    seq_len = len(token)\n",
    "    mask = []\n",
    "    token_ids = config.tokenizer.convert_tokens_to_ids(token)\n",
    "    pad_size = config.pad_size\n",
    "    if pad_size:\n",
    "        if len(token) < pad_size:\n",
    "            mask = [1] * len(token_ids) + ([0] * (pad_size - len(token)))\n",
    "            token_ids += ([0] * (pad_size - len(token)))\n",
    "        else:\n",
    "            mask = [1] * pad_size\n",
    "            token_ids = token_ids[:pad_size]\n",
    "            seq_len = pad_size\n",
    "    ids = torch.LongTensor([token_ids])\n",
    "    seq_len = torch.LongTensor([seq_len])\n",
    "    mask = torch.LongTensor([mask])\n",
    "    return ids, seq_len, mask\n",
    "\n",
    "\n",
    "def predict(text):\n",
    "    \"\"\"\n",
    "    单个文本预测\n",
    "    :param text:\n",
    "    :return:\n",
    "    \"\"\"\n",
    "    data = build_predict_text(text)\n",
    "    with torch.no_grad():\n",
    "        outputs = model(data)\n",
    "        num = torch.argmax(outputs)\n",
    "    return key[int(num)]\n",
    "\n",
    "\n",
    "if __name__ == '__main__':\n",
    "    print(predict(\"金吉列联手东亚银行提供百万留学奖学金\"))\n"
   ]
  },
  {
   "cell_type": "code",
   "execution_count": null,
   "id": "8e956c84",
   "metadata": {},
   "outputs": [],
   "source": []
  }
 ],
 "metadata": {
  "kernelspec": {
   "display_name": "Python 3 (ipykernel)",
   "language": "python",
   "name": "python3"
  },
  "language_info": {
   "codemirror_mode": {
    "name": "ipython",
    "version": 3
   },
   "file_extension": ".py",
   "mimetype": "text/x-python",
   "name": "python",
   "nbconvert_exporter": "python",
   "pygments_lexer": "ipython3",
   "version": "3.11.3"
  },
  "toc": {
   "base_numbering": 1,
   "nav_menu": {},
   "number_sections": true,
   "sideBar": true,
   "skip_h1_title": false,
   "title_cell": "Table of Contents",
   "title_sidebar": "Contents",
   "toc_cell": false,
   "toc_position": {},
   "toc_section_display": true,
   "toc_window_display": false
  }
 },
 "nbformat": 4,
 "nbformat_minor": 5
}
